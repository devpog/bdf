{
 "cells": [
  {
   "cell_type": "code",
   "execution_count": 34,
   "metadata": {},
   "outputs": [
    {
     "name": "stdout",
     "output_type": "stream",
     "text": [
      "0 \tMSE:  40010884.0\n",
      "100 \tMSE:  1636662.9\n",
      "200 \tMSE:  76076.26\n",
      "300 \tMSE:  2126.2288\n",
      "400 \tMSE:  1813.9716\n",
      "500 \tMSE:  1629.5967\n",
      "600 \tMSE:  1491.2843\n",
      "700 \tMSE:  1378.3351\n",
      "800 \tMSE:  1282.3728\n",
      "900 \tMSE:  2738.9014\n"
     ]
    },
    {
     "data": {
      "text/plain": [
       "[1346.7798, 1362.4154, 1364.0509, 1342.5037, 1338.6473]"
      ]
     },
     "execution_count": 34,
     "metadata": {},
     "output_type": "execute_result"
    }
   ],
   "source": [
    "%matplotlib inline\n",
    "\n",
    "import pandas as pd\n",
    "import numpy as np\n",
    "\n",
    "import matplotlib.pylab as plt\n",
    "\n",
    "# import custom classes\n",
    "from core.database import *\n",
    "from core.forecast import *\n",
    "\n",
    "\n",
    "# define db to pull historical data\n",
    "db = Database(name='bdf')\n",
    "\n",
    "# select commodity\n",
    "commodity = 'gold'\n",
    "\n",
    "# get historical data\n",
    "data = db.get_commodity(commodity)\n",
    "data.set_index('date', inplace=True)\n",
    "\n",
    "# instantiate an object of Forecast class\n",
    "forecast = Forecast(data['price'], method='rnn')\n",
    "\n",
    "# set parameters\n",
    "forecast.rnn(learning_rate=0.001, hidden=100, horizon=1)\n",
    "\n",
    "# fit model\n",
    "forecast.fit()\n",
    "\n",
    "# predict \n",
    "predicted = forecast.predict()\n",
    "\n",
    "predicted\n"
   ]
  },
  {
   "cell_type": "code",
   "execution_count": 35,
   "metadata": {},
   "outputs": [
    {
     "data": {
      "text/plain": [
       "Text(0.5,0,'Periods')"
      ]
     },
     "execution_count": 35,
     "metadata": {},
     "output_type": "execute_result"
    },
    {
     "data": {
      "image/png": "[encoded data removed]",
      "text/plain": [
       "<matplotlib.figure.Figure at 0x7efbcc18a588>"
      ]
     },
     "metadata": {},
     "output_type": "display_data"
    }
   ],
   "source": [
    "\"\"\"\n",
    "    Plot:\n",
    "        - scatterplot of observed and predicted values\n",
    "\"\"\"\n",
    "\n",
    "plt.title('Forecasted Vs. Expected')\n",
    "plt.plot(pd.Series(np.ravel(forecast.Y_test)), 'bo', markersize=10, label='Expected')\n",
    "plt.plot(pd.Series(np.ravel(predicted)), 'r.', markersize=10, label='Forecasted')\n",
    "plt.legend(loc='best')\n",
    "plt.xlabel('Periods')\n"
   ]
  },
  {
   "cell_type": "code",
   "execution_count": null,
   "metadata": {},
   "outputs": [],
   "source": []
  }
 ],
 "metadata": {
  "kernelspec": {
   "display_name": "Python 3",
   "language": "python",
   "name": "python3"
  },
  "language_info": {
   "codemirror_mode": {
    "name": "ipython",
    "version": 3
   },
   "file_extension": ".py",
   "mimetype": "text/x-python",
   "name": "python",
   "nbconvert_exporter": "python",
   "pygments_lexer": "ipython3",
   "version": "3.6.4"
  }
 },
 "nbformat": 4,
 "nbformat_minor": 2
}
