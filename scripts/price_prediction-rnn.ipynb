{
 "cells": [
  {
   "cell_type": "code",
   "execution_count": 19,
   "metadata": {},
   "outputs": [
    {
     "name": "stdout",
     "output_type": "stream",
     "text": [
      "0 \tMSE:  52444550.0\n",
      "100 \tMSE:  1065263.1\n",
      "200 \tMSE:  3143.9382\n",
      "300 \tMSE:  2041.2175\n",
      "400 \tMSE:  1640.8052\n",
      "500 \tMSE:  1514.754\n",
      "600 \tMSE:  1375.5837\n",
      "700 \tMSE:  1299.4554\n",
      "800 \tMSE:  1265.6078\n",
      "900 \tMSE:  1244.6447\n"
     ]
    },
    {
     "data": {
      "text/plain": [
       "[1346.796, 1360.417, 1364.6707, 1341.4298, 1338.0743]"
      ]
     },
     "execution_count": 19,
     "metadata": {},
     "output_type": "execute_result"
    }
   ],
   "source": [
    "%matplotlib inline\n",
    "\n",
    "import pandas as pd\n",
    "import numpy as np\n",
    "\n",
    "import matplotlib.pylab as plt\n",
    "\n",
    "# import custom classes\n",
    "from core.database import *\n",
    "from core.forecast import *\n",
    "\n",
    "\n",
    "# define db to pull historical data\n",
    "db = Database(name='bdf')\n",
    "\n",
    "# select commodity\n",
    "commodity = 'gold'\n",
    "\n",
    "# get historical data\n",
    "data = db.get_commodity(commodity)\n",
    "data.set_index('date', inplace=True)\n",
    "\n",
    "# instantiate an object of Forecast class choosing Recurring Neural Network model\n",
    "forecast = Forecast(data['price'], method='rnn')\n",
    "\n",
    "# set parameters\n",
    "forecast.rnn(learning_rate=0.001, hidden=200, horizon=1)\n",
    "\n",
    "# fit model\n",
    "forecast.fit()\n",
    "\n",
    "# predict \n",
    "predicted = forecast.predict()\n",
    "\n",
    "predicted\n"
   ]
  },
  {
   "cell_type": "code",
   "execution_count": 20,
   "metadata": {},
   "outputs": [
    {
     "data": {
      "text/plain": [
       "Text(0.5,0,'Periods')"
      ]
     },
     "execution_count": 20,
     "metadata": {},
     "output_type": "execute_result"
    },
    {
     "data": {
      "image/png": "[encoded data removed]",
      "text/plain": [
       "<matplotlib.figure.Figure at 0x7ff3ecc7a978>"
      ]
     },
     "metadata": {},
     "output_type": "display_data"
    }
   ],
   "source": [
    "\"\"\"\n",
    "    Plot:\n",
    "        - scatterplot of observed and predicted values\n",
    "\"\"\"\n",
    "\n",
    "plt.plot(pd.Series(np.ravel(forecast.Y_test)), 'bo', markersize=10, label='Expected')\n",
    "plt.plot(pd.Series(np.ravel(predicted)), 'r.', markersize=10, label='Forecasted')\n",
    "plt.legend(loc='best')\n",
    "\n",
    "plt.title('Forecasted Vs. Expected')\n",
    "plt.xlabel('Periods')\n"
   ]
  },
  {
   "cell_type": "code",
   "execution_count": null,
   "metadata": {},
   "outputs": [],
   "source": []
  }
 ],
 "metadata": {
  "kernelspec": {
   "display_name": "Python 3",
   "language": "python",
   "name": "python3"
  },
  "language_info": {
   "codemirror_mode": {
    "name": "ipython",
    "version": 3
   },
   "file_extension": ".py",
   "mimetype": "text/x-python",
   "name": "python",
   "nbconvert_exporter": "python",
   "pygments_lexer": "ipython3",
   "version": "3.6.4"
  }
 },
 "nbformat": 4,
 "nbformat_minor": 2
}
