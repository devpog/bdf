{
 "cells": [
  {
   "cell_type": "code",
   "execution_count": 35,
   "metadata": {},
   "outputs": [
    {
     "name": "stdout",
     "output_type": "stream",
     "text": [
      "0 \tMSE:  30304246.0\n",
      "100 \tMSE:  633155.0\n",
      "200 \tMSE:  226042.83\n",
      "300 \tMSE:  24653.498\n",
      "400 \tMSE:  1665.8328\n",
      "500 \tMSE:  1169.2343\n",
      "600 \tMSE:  1121.0867\n",
      "700 \tMSE:  1073.3962\n",
      "800 \tMSE:  1035.8257\n",
      "900 \tMSE:  985.7705\n"
     ]
    },
    {
     "data": {
      "text/plain": [
       "[1332.5664,\n",
       " 1332.033,\n",
       " 1330.5017,\n",
       " 1348.0117,\n",
       " 1350.1104,\n",
       " 1354.7754,\n",
       " 1354.7744,\n",
       " 1357.8722,\n",
       " 1330.3116,\n",
       " 1325.6963,\n",
       " 1316.0895,\n",
       " 1318.0935,\n",
       " 1314.6418,\n",
       " 1327.2576,\n",
       " 1333.3076,\n",
       " 1339.7017,\n",
       " 1343.5696,\n",
       " 1347.1813,\n",
       " 1346.5708,\n",
       " 1344.6777,\n",
       " 1344.8545,\n",
       " 1352.0247,\n",
       " 1362.4448,\n",
       " 1362.7788]"
      ]
     },
     "execution_count": 35,
     "metadata": {},
     "output_type": "execute_result"
    }
   ],
   "source": [
    "%matplotlib inline\n",
    "\n",
    "import pandas as pd\n",
    "import numpy as np\n",
    "\n",
    "import matplotlib.pylab as plt\n",
    "\n",
    "# import custom classes\n",
    "from core.database import *\n",
    "from core.forecast import *\n",
    "\n",
    "\n",
    "# define db to pull historical data\n",
    "db = Database(name='bdf')\n",
    "\n",
    "# select commodity\n",
    "commodity = 'gold'\n",
    "\n",
    "# get historical data\n",
    "data = db.get_commodity(commodity)\n",
    "data.set_index('date', inplace=True)\n",
    "\n",
    "# instantiate an object of Forecast class choosing Recurring Neural Network model\n",
    "forecast = Forecast(data['price'], method='rnn')\n",
    "\n",
    "# set parameters\n",
    "forecast.rnn(learning_rate=0.001, hidden=100, num_periods=24)\n",
    "\n",
    "# fit model\n",
    "forecast.fit()\n",
    "\n",
    "# predict \n",
    "predicted = forecast.predict()\n",
    "\n",
    "predicted\n"
   ]
  },
  {
   "cell_type": "code",
   "execution_count": 36,
   "metadata": {},
   "outputs": [
    {
     "data": {
      "text/plain": [
       "(25, 7)"
      ]
     },
     "execution_count": 36,
     "metadata": {},
     "output_type": "execute_result"
    }
   ],
   "source": [
    "data.shape\n"
   ]
  },
  {
   "cell_type": "code",
   "execution_count": 37,
   "metadata": {},
   "outputs": [
    {
     "data": {
      "text/plain": [
       "Text(0.5,0,'Periods')"
      ]
     },
     "execution_count": 37,
     "metadata": {},
     "output_type": "execute_result"
    },
    {
     "data": {
      "image/png": "[encoded data removed]",
      "text/plain": [
       "<matplotlib.figure.Figure at 0x7fd2a1eb3978>"
      ]
     },
     "metadata": {},
     "output_type": "display_data"
    }
   ],
   "source": [
    "\"\"\"\n",
    "    Plot:\n",
    "        - scatterplot of observed and predicted values\n",
    "\"\"\"\n",
    "\n",
    "plt.plot(pd.Series(np.ravel(forecast.Y_test)), 'bo', markersize=10, label='Expected')\n",
    "plt.plot(pd.Series(np.ravel(predicted)), 'r.', markersize=10, label='Forecasted')\n",
    "plt.legend(loc='best')\n",
    "\n",
    "plt.title('Forecasted Vs. Expected')\n",
    "plt.xlabel('Periods')\n"
   ]
  },
  {
   "cell_type": "code",
   "execution_count": 48,
   "metadata": {},
   "outputs": [
    {
     "data": {
      "text/plain": [
       "DatetimeIndex(['2018-02-23', '2018-02-22', '2018-02-21', '2018-02-20',\n",
       "               '2018-02-19', '2018-02-18', '2018-02-16', '2018-02-15',\n",
       "               '2018-02-14', '2018-02-13', '2018-02-12', '2018-02-09',\n",
       "               '2018-02-08', '2018-02-07', '2018-02-06', '2018-02-05',\n",
       "               '2018-02-02', '2018-02-01', '2018-01-31', '2018-01-30',\n",
       "               '2018-01-29', '2018-01-26', '2018-01-25', '2018-01-24'],\n",
       "              dtype='datetime64[ns]', name='date', freq=None)"
      ]
     },
     "execution_count": 48,
     "metadata": {},
     "output_type": "execute_result"
    }
   ],
   "source": [
    "data.index[:24]\n"
   ]
  },
  {
   "cell_type": "code",
   "execution_count": 49,
   "metadata": {},
   "outputs": [
    {
     "name": "stdout",
     "output_type": "stream",
     "text": [
      "0 \tMSE:  42656012.0\n",
      "100 \tMSE:  791921.56\n",
      "200 \tMSE:  250874.64\n",
      "300 \tMSE:  25515.223\n",
      "400 \tMSE:  1714.5924\n",
      "500 \tMSE:  1170.0159\n",
      "600 \tMSE:  1063.0221\n",
      "700 \tMSE:  991.78986\n",
      "800 \tMSE:  928.2214\n",
      "900 \tMSE:  875.8466\n"
     ]
    }
   ],
   "source": [
    "index = data.index[:forecast.num_periods]\n",
    "observed = forecast.Y_test\n",
    "predicted = forecast.predict()\n"
   ]
  },
  {
   "cell_type": "code",
   "execution_count": null,
   "metadata": {},
   "outputs": [
    {
     "data": {
      "text/html": [
       "<div>\n",
       "<style scoped>\n",
       "    .dataframe tbody tr th:only-of-type {\n",
       "        vertical-align: middle;\n",
       "    }\n",
       "\n",
       "    .dataframe tbody tr th {\n",
       "        vertical-align: top;\n",
       "    }\n",
       "\n",
       "    .dataframe thead th {\n",
       "        text-align: right;\n",
       "    }\n",
       "</style>\n",
       "<table border=\"1\" class=\"dataframe\">\n",
       "  <thead>\n",
       "    <tr style=\"text-align: right;\">\n",
       "      <th></th>\n",
       "      <th>observed</th>\n",
       "      <th>predicted</th>\n",
       "    </tr>\n",
       "    <tr>\n",
       "      <th>date</th>\n",
       "      <th></th>\n",
       "      <th></th>\n",
       "    </tr>\n",
       "  </thead>\n",
       "  <tbody>\n",
       "    <tr>\n",
       "      <th>2018-02-23</th>\n",
       "      <td>1332.6</td>\n",
       "      <td>1332.579590</td>\n",
       "    </tr>\n",
       "    <tr>\n",
       "      <th>2018-02-22</th>\n",
       "      <td>1332.1</td>\n",
       "      <td>1331.847290</td>\n",
       "    </tr>\n",
       "    <tr>\n",
       "      <th>2018-02-21</th>\n",
       "      <td>1331.2</td>\n",
       "      <td>1330.296143</td>\n",
       "    </tr>\n",
       "    <tr>\n",
       "      <th>2018-02-20</th>\n",
       "      <td>1347.8</td>\n",
       "      <td>1347.916870</td>\n",
       "    </tr>\n",
       "    <tr>\n",
       "      <th>2018-02-19</th>\n",
       "      <td>1350.5</td>\n",
       "      <td>1350.278564</td>\n",
       "    </tr>\n",
       "    <tr>\n",
       "      <th>2018-02-18</th>\n",
       "      <td>1356.2</td>\n",
       "      <td>1356.463135</td>\n",
       "    </tr>\n",
       "    <tr>\n",
       "      <th>2018-02-16</th>\n",
       "      <td>1355.3</td>\n",
       "      <td>1355.012207</td>\n",
       "    </tr>\n",
       "    <tr>\n",
       "      <th>2018-02-15</th>\n",
       "      <td>1358.0</td>\n",
       "      <td>1357.295288</td>\n",
       "    </tr>\n",
       "    <tr>\n",
       "      <th>2018-02-14</th>\n",
       "      <td>1330.4</td>\n",
       "      <td>1330.235840</td>\n",
       "    </tr>\n",
       "    <tr>\n",
       "      <th>2018-02-13</th>\n",
       "      <td>1326.4</td>\n",
       "      <td>1326.310303</td>\n",
       "    </tr>\n",
       "    <tr>\n",
       "      <th>2018-02-12</th>\n",
       "      <td>1315.7</td>\n",
       "      <td>1314.754150</td>\n",
       "    </tr>\n",
       "    <tr>\n",
       "      <th>2018-02-09</th>\n",
       "      <td>1319.0</td>\n",
       "      <td>1319.061768</td>\n",
       "    </tr>\n",
       "    <tr>\n",
       "      <th>2018-02-08</th>\n",
       "      <td>1314.6</td>\n",
       "      <td>1315.294678</td>\n",
       "    </tr>\n",
       "    <tr>\n",
       "      <th>2018-02-07</th>\n",
       "      <td>1329.5</td>\n",
       "      <td>1327.588745</td>\n",
       "    </tr>\n",
       "    <tr>\n",
       "      <th>2018-02-06</th>\n",
       "      <td>1336.5</td>\n",
       "      <td>1334.784912</td>\n",
       "    </tr>\n",
       "    <tr>\n",
       "      <th>2018-02-05</th>\n",
       "      <td>1337.3</td>\n",
       "      <td>1339.696411</td>\n",
       "    </tr>\n",
       "    <tr>\n",
       "      <th>2018-02-02</th>\n",
       "      <td>1347.9</td>\n",
       "      <td>1340.467163</td>\n",
       "    </tr>\n",
       "    <tr>\n",
       "      <th>2018-02-01</th>\n",
       "      <td>1343.1</td>\n",
       "      <td>1345.953003</td>\n",
       "    </tr>\n",
       "    <tr>\n",
       "      <th>2018-01-31</th>\n",
       "      <td>1340.0</td>\n",
       "      <td>1344.439209</td>\n",
       "    </tr>\n",
       "    <tr>\n",
       "      <th>2018-01-30</th>\n",
       "      <td>1345.1</td>\n",
       "      <td>1341.766846</td>\n",
       "    </tr>\n",
       "    <tr>\n",
       "      <th>2018-01-29</th>\n",
       "      <td>1357.2</td>\n",
       "      <td>1345.688721</td>\n",
       "    </tr>\n",
       "    <tr>\n",
       "      <th>2018-01-26</th>\n",
       "      <td>1368.0</td>\n",
       "      <td>1356.707642</td>\n",
       "    </tr>\n",
       "    <tr>\n",
       "      <th>2018-01-25</th>\n",
       "      <td>1361.4</td>\n",
       "      <td>1366.108643</td>\n",
       "    </tr>\n",
       "    <tr>\n",
       "      <th>2018-01-24</th>\n",
       "      <td>1341.7</td>\n",
       "      <td>1362.258057</td>\n",
       "    </tr>\n",
       "  </tbody>\n",
       "</table>\n",
       "</div>"
      ],
      "text/plain": [
       "            observed    predicted\n",
       "date                             \n",
       "2018-02-23    1332.6  1332.579590\n",
       "2018-02-22    1332.1  1331.847290\n",
       "2018-02-21    1331.2  1330.296143\n",
       "2018-02-20    1347.8  1347.916870\n",
       "2018-02-19    1350.5  1350.278564\n",
       "2018-02-18    1356.2  1356.463135\n",
       "2018-02-16    1355.3  1355.012207\n",
       "2018-02-15    1358.0  1357.295288\n",
       "2018-02-14    1330.4  1330.235840\n",
       "2018-02-13    1326.4  1326.310303\n",
       "2018-02-12    1315.7  1314.754150\n",
       "2018-02-09    1319.0  1319.061768\n",
       "2018-02-08    1314.6  1315.294678\n",
       "2018-02-07    1329.5  1327.588745\n",
       "2018-02-06    1336.5  1334.784912\n",
       "2018-02-05    1337.3  1339.696411\n",
       "2018-02-02    1347.9  1340.467163\n",
       "2018-02-01    1343.1  1345.953003\n",
       "2018-01-31    1340.0  1344.439209\n",
       "2018-01-30    1345.1  1341.766846\n",
       "2018-01-29    1357.2  1345.688721\n",
       "2018-01-26    1368.0  1356.707642\n",
       "2018-01-25    1361.4  1366.108643\n",
       "2018-01-24    1341.7  1362.258057"
      ]
     },
     "execution_count": 59,
     "metadata": {},
     "output_type": "execute_result"
    }
   ],
   "source": [
    "\n",
    "df = pd.DataFrame(np.array([observed, predicted]).T, index=index, columns=['observed', 'predicted'])"
   ]
  },
  {
   "cell_type": "code",
   "execution_count": 60,
   "metadata": {},
   "outputs": [
    {
     "data": {
      "text/plain": [
       "[1332.6,\n",
       " 1332.1,\n",
       " 1331.2,\n",
       " 1347.8,\n",
       " 1350.5,\n",
       " 1356.2,\n",
       " 1355.3,\n",
       " 1358.0,\n",
       " 1330.4,\n",
       " 1326.4,\n",
       " 1315.7,\n",
       " 1319.0,\n",
       " 1314.6,\n",
       " 1329.5,\n",
       " 1336.5,\n",
       " 1337.3,\n",
       " 1347.9,\n",
       " 1343.1,\n",
       " 1340.0,\n",
       " 1345.1,\n",
       " 1357.2,\n",
       " 1368.0,\n",
       " 1361.4,\n",
       " 1341.7]"
      ]
     },
     "execution_count": 60,
     "metadata": {},
     "output_type": "execute_result"
    }
   ],
   "source": [
    "observed"
   ]
  },
  {
   "cell_type": "code",
   "execution_count": null,
   "metadata": {},
   "outputs": [],
   "source": []
  }
 ],
 "metadata": {
  "kernelspec": {
   "display_name": "Python 3",
   "language": "python",
   "name": "python3"
  },
  "language_info": {
   "codemirror_mode": {
    "name": "ipython",
    "version": 3
   },
   "file_extension": ".py",
   "mimetype": "text/x-python",
   "name": "python",
   "nbconvert_exporter": "python",
   "pygments_lexer": "ipython3",
   "version": "3.6.4"
  }
 },
 "nbformat": 4,
 "nbformat_minor": 2
}
